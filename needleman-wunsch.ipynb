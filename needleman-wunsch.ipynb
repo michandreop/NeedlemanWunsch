{
 "cells": [
  {
   "cell_type": "markdown",
   "metadata": {},
   "source": [
    "## Implementation of the Needleman-Wunsch Algorithm"
   ]
  },
  {
   "cell_type": "markdown",
   "metadata": {},
   "source": [
    "The following code works given a fasta file containing the two protein sequences one wishes to align"
   ]
  },
  {
   "cell_type": "code",
   "execution_count": null,
   "metadata": {},
   "outputs": [],
   "source": [
    "def read_fasta(file_path):\n",
    "    sequences = {}\n",
    "    current_sequence = None\n",
    "\n",
    "    with open(file_path, 'r') as file:\n",
    "        for line in file:\n",
    "            line = line.strip()\n",
    "            if line.startswith('>'):\n",
    "                current_sequence = line[1:]\n",
    "                sequences[current_sequence] = ''\n",
    "            else:\n",
    "                sequences[current_sequence] += line\n",
    "\n",
    "    return sequences\n",
    "\n",
    "def initialize_matrix(rows, cols):\n",
    "    return [[0] * cols for _ in range(rows)]\n",
    "\n",
    "def needleman_wunsch(seq1, seq2, gap_penalty=-2, match_score=1, mismatch_penalty=-1):\n",
    "    len_seq1 = len(seq1)\n",
    "    len_seq2 = len(seq2)\n",
    "\n",
    "    # Initialize the scoring matrix\n",
    "    score_matrix = initialize_matrix(len_seq1 + 1, len_seq2 + 1)\n",
    "\n",
    "    # Initialize the first row and column\n",
    "    for i in range(len_seq1 + 1):\n",
    "        score_matrix[i][0] = i * gap_penalty\n",
    "\n",
    "    for j in range(len_seq2 + 1):\n",
    "        score_matrix[0][j] = j * gap_penalty\n",
    "\n",
    "    # Fill in the scoring matrix\n",
    "    for i in range(1, len_seq1 + 1):\n",
    "        for j in range(1, len_seq2 + 1):\n",
    "            match = score_matrix[i - 1][j - 1] + (match_score if seq1[i - 1] == seq2[j - 1] else mismatch_penalty)\n",
    "            delete = score_matrix[i - 1][j] + gap_penalty\n",
    "            insert = score_matrix[i][j - 1] + gap_penalty\n",
    "\n",
    "            score_matrix[i][j] = max(match, delete, insert)\n",
    "\n",
    "    # score_matrix = [row[1:] for row in score_matrix[1:]]\n",
    "\n",
    "    # Print the scoring matrix\n",
    "    print(\"Scoring Matrix:\")\n",
    "    for row in score_matrix:\n",
    "        print(row)\n",
    "\n",
    "    # Traceback to find the alignment\n",
    "    aligned_seq1 = ''\n",
    "    aligned_seq2 = ''\n",
    "    i, j = len_seq1, len_seq2\n",
    "\n",
    "    while i > 0 or j > 0:\n",
    "        current_score = score_matrix[i][j]\n",
    "        diagonal_score = score_matrix[i - 1][j - 1] + (match_score if seq1[i - 1] == seq2[j - 1] else mismatch_penalty) if i > 0 and j > 0 else float('-inf')\n",
    "        up_score = score_matrix[i - 1][j] + gap_penalty if i > 0 else float('-inf')\n",
    "        left_score = score_matrix[i][j - 1] + gap_penalty if j > 0 else float('-inf')\n",
    "\n",
    "        if current_score == diagonal_score:\n",
    "            aligned_seq1 = seq1[i - 1] + aligned_seq1\n",
    "            aligned_seq2 = seq2[j - 1] + aligned_seq2\n",
    "            i -= 1\n",
    "            j -= 1\n",
    "        elif current_score == up_score:\n",
    "            aligned_seq1 = seq1[i - 1] + aligned_seq1\n",
    "            aligned_seq2 = '-' + aligned_seq2\n",
    "            i -= 1\n",
    "        else:\n",
    "            aligned_seq1 = '-' + aligned_seq1\n",
    "            aligned_seq2 = seq2[j - 1] + aligned_seq2\n",
    "            j -= 1\n",
    "\n",
    "    return aligned_seq1, aligned_seq2\n",
    "\n",
    "if __name__ == \"__main__\":\n",
    "    # Example usage\n",
    "    fasta_file = \"protein_sequences.fasta\"\n",
    "    sequences = read_fasta(fasta_file)\n",
    "\n",
    "    seq1_name, seq2_name = list(sequences.keys())[:2]\n",
    "    seq1 = sequences[seq1_name]\n",
    "    seq2 = sequences[seq2_name]\n",
    "\n",
    "    aligned_seq1, aligned_seq2 = needleman_wunsch(seq1, seq2)\n",
    "\n",
    "    print(f\"Alignment for {seq1_name} and {seq2_name}:\")\n",
    "    print(aligned_seq1)\n",
    "    print(aligned_seq2)\n"
   ]
  }
 ],
 "metadata": {
  "kernelspec": {
   "display_name": "base",
   "language": "python",
   "name": "python3"
  },
  "language_info": {
   "name": "python",
   "version": "3.9.13"
  },
  "vscode": {
   "interpreter": {
    "hash": "1b8e75f16820f93ff6df4dadc417ee4464256e4c7424e897d44509d857c92a56"
   }
  }
 },
 "nbformat": 4,
 "nbformat_minor": 2
}
